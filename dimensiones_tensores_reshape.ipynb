{
  "nbformat": 4,
  "nbformat_minor": 0,
  "metadata": {
    "colab": {
      "provenance": [],
      "toc_visible": true,
      "authorship_tag": "ABX9TyMzuv45H1PK1Nx0qZuluPZW",
      "include_colab_link": true
    },
    "kernelspec": {
      "name": "python3",
      "display_name": "Python 3"
    },
    "language_info": {
      "name": "python"
    }
  },
  "cells": [
    {
      "cell_type": "markdown",
      "metadata": {
        "id": "view-in-github",
        "colab_type": "text"
      },
      "source": [
        "<a href=\"https://colab.research.google.com/github/kenny2408/Redes-Neuronales-con-Python-y-Keras/blob/main/dimensiones_tensores_reshape.ipynb\" target=\"_parent\"><img src=\"https://colab.research.google.com/assets/colab-badge.svg\" alt=\"Open In Colab\"/></a>"
      ]
    },
    {
      "cell_type": "code",
      "execution_count": 1,
      "metadata": {
        "id": "eB06W15nnnyA"
      },
      "outputs": [],
      "source": [
        "import numpy as np"
      ]
    },
    {
      "cell_type": "markdown",
      "source": [
        "***Scalar***"
      ],
      "metadata": {
        "id": "oT5M0rv7n3aW"
      }
    },
    {
      "cell_type": "code",
      "source": [
        "x = np.array(42)\n",
        "print(x.shape)\n",
        "x.ndim"
      ],
      "metadata": {
        "colab": {
          "base_uri": "https://localhost:8080/"
        },
        "id": "pCyqDP7pn-jn",
        "outputId": "8cc85f94-f4c7-49a5-8cf7-ea4961a59371"
      },
      "execution_count": 4,
      "outputs": [
        {
          "output_type": "stream",
          "name": "stdout",
          "text": [
            "()\n"
          ]
        },
        {
          "output_type": "execute_result",
          "data": {
            "text/plain": [
              "0"
            ]
          },
          "metadata": {},
          "execution_count": 4
        }
      ]
    },
    {
      "cell_type": "markdown",
      "source": [
        "***Vector***"
      ],
      "metadata": {
        "id": "UBkiw3GFocdY"
      }
    },
    {
      "cell_type": "code",
      "source": [
        "x = np.array([42,3,5,3,6,7])\n",
        "print(x.shape)\n",
        "x.ndim"
      ],
      "metadata": {
        "colab": {
          "base_uri": "https://localhost:8080/"
        },
        "id": "YqVuzXj7oV1q",
        "outputId": "cb92442d-1185-4e35-b9ad-e1e8ddf982f5"
      },
      "execution_count": 5,
      "outputs": [
        {
          "output_type": "stream",
          "name": "stdout",
          "text": [
            "(6,)\n"
          ]
        },
        {
          "output_type": "execute_result",
          "data": {
            "text/plain": [
              "1"
            ]
          },
          "metadata": {},
          "execution_count": 5
        }
      ]
    },
    {
      "cell_type": "markdown",
      "source": [
        "***Matrix***"
      ],
      "metadata": {
        "id": "TAEBX9iZpuDl"
      }
    },
    {
      "cell_type": "code",
      "source": [
        "x = np.array([[42,3,5,3,6,7],\n",
        "             [66,54,5,343,6,7]])\n",
        "print(x.shape)\n",
        "x.ndim"
      ],
      "metadata": {
        "colab": {
          "base_uri": "https://localhost:8080/"
        },
        "id": "SpYlFN8wpxqe",
        "outputId": "a44aef95-29fb-4a84-ed70-9472683b90a5"
      },
      "execution_count": 7,
      "outputs": [
        {
          "output_type": "stream",
          "name": "stdout",
          "text": [
            "(2, 6)\n"
          ]
        },
        {
          "output_type": "execute_result",
          "data": {
            "text/plain": [
              "2"
            ]
          },
          "metadata": {},
          "execution_count": 7
        }
      ]
    },
    {
      "cell_type": "markdown",
      "source": [
        "***Tensor***"
      ],
      "metadata": {
        "id": "4sZbU23dqK8R"
      }
    },
    {
      "cell_type": "code",
      "source": [
        "x = np.array([[[42,3,5,3,6,7],\n",
        "             [66,54,5,343,6,7]],\n",
        "             [[42,3,5,3,6,7],\n",
        "             [66,54,5,343,6,7]],\n",
        "             [[42,3,5,3,6,7],\n",
        "             [66,54,5,343,6,7]]])\n",
        "print(x.shape)\n",
        "x.ndim"
      ],
      "metadata": {
        "colab": {
          "base_uri": "https://localhost:8080/"
        },
        "id": "R10Qpc-iqQP5",
        "outputId": "0a93d623-df18-4efa-c8f9-9beca56ffc5d"
      },
      "execution_count": 14,
      "outputs": [
        {
          "output_type": "stream",
          "name": "stdout",
          "text": [
            "(3, 2, 6)\n"
          ]
        },
        {
          "output_type": "execute_result",
          "data": {
            "text/plain": [
              "3"
            ]
          },
          "metadata": {},
          "execution_count": 14
        }
      ]
    },
    {
      "cell_type": "markdown",
      "source": [
        "**Reshape**"
      ],
      "metadata": {
        "id": "x7n5uVYxrcEr"
      }
    },
    {
      "cell_type": "code",
      "source": [
        "x = np.array([[0,1],\n",
        "              [2,3],\n",
        "              [4,5],\n",
        "              [6,7],\n",
        "              [8,9]])\n",
        "x.shape"
      ],
      "metadata": {
        "colab": {
          "base_uri": "https://localhost:8080/"
        },
        "id": "Cka8fs21rfxT",
        "outputId": "2ece0e24-9338-4173-c903-9f588cbdbcee"
      },
      "execution_count": 18,
      "outputs": [
        {
          "output_type": "execute_result",
          "data": {
            "text/plain": [
              "(5, 2)"
            ]
          },
          "metadata": {},
          "execution_count": 18
        }
      ]
    },
    {
      "cell_type": "code",
      "source": [
        "x.reshape(10,1)"
      ],
      "metadata": {
        "colab": {
          "base_uri": "https://localhost:8080/"
        },
        "id": "MglcTYKosdFL",
        "outputId": "23f118e5-8d8e-41cb-b70e-0ed0dc12a62e"
      },
      "execution_count": 20,
      "outputs": [
        {
          "output_type": "execute_result",
          "data": {
            "text/plain": [
              "array([[0],\n",
              "       [1],\n",
              "       [2],\n",
              "       [3],\n",
              "       [4],\n",
              "       [5],\n",
              "       [6],\n",
              "       [7],\n",
              "       [8],\n",
              "       [9]])"
            ]
          },
          "metadata": {},
          "execution_count": 20
        }
      ]
    },
    {
      "cell_type": "code",
      "source": [
        "x.reshape(2,5)"
      ],
      "metadata": {
        "colab": {
          "base_uri": "https://localhost:8080/"
        },
        "id": "YoWCyDPLs3hX",
        "outputId": "a1c09c42-5fb5-49e0-f6ba-f0de58b1bff8"
      },
      "execution_count": 21,
      "outputs": [
        {
          "output_type": "execute_result",
          "data": {
            "text/plain": [
              "array([[0, 1, 2, 3, 4],\n",
              "       [5, 6, 7, 8, 9]])"
            ]
          },
          "metadata": {},
          "execution_count": 21
        }
      ]
    },
    {
      "cell_type": "code",
      "source": [
        "np.transpose(x)"
      ],
      "metadata": {
        "colab": {
          "base_uri": "https://localhost:8080/"
        },
        "id": "0cLqWSIVtmCf",
        "outputId": "9e68de78-7e0f-4e62-c29d-b56348251320"
      },
      "execution_count": 23,
      "outputs": [
        {
          "output_type": "execute_result",
          "data": {
            "text/plain": [
              "array([[0, 2, 4, 6, 8],\n",
              "       [1, 3, 5, 7, 9]])"
            ]
          },
          "metadata": {},
          "execution_count": 23
        }
      ]
    },
    {
      "cell_type": "code",
      "source": [
        "x.T"
      ],
      "metadata": {
        "colab": {
          "base_uri": "https://localhost:8080/"
        },
        "id": "BPyi1Co8tzSX",
        "outputId": "01685987-a8ec-4046-b908-5072b8af0f5a"
      },
      "execution_count": 24,
      "outputs": [
        {
          "output_type": "execute_result",
          "data": {
            "text/plain": [
              "array([[0, 2, 4, 6, 8],\n",
              "       [1, 3, 5, 7, 9]])"
            ]
          },
          "metadata": {},
          "execution_count": 24
        }
      ]
    }
  ]
}